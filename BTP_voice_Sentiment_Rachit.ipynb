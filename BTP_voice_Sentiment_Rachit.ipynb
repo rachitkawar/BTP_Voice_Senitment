{
  "nbformat": 4,
  "nbformat_minor": 0,
  "metadata": {
    "colab": {
      "name": "BTP voice Sentiment.ipynb",
      "provenance": [],
      "private_outputs": true,
      "collapsed_sections": [],
      "authorship_tag": "ABX9TyOweYaSNMfcLAu+B6Uu6+nz",
      "include_colab_link": true
    },
    "kernelspec": {
      "name": "python3",
      "display_name": "Python 3"
    },
    "accelerator": "GPU"
  },
  "cells": [
    {
      "cell_type": "markdown",
      "metadata": {
        "id": "view-in-github",
        "colab_type": "text"
      },
      "source": [
        "<a href=\"https://colab.research.google.com/github/rachitkawar/BTP_Voice_Senitment/blob/master/BTP_voice_Sentiment_Rachit.ipynb\" target=\"_parent\"><img src=\"https://colab.research.google.com/assets/colab-badge.svg\" alt=\"Open In Colab\"/></a>"
      ]
    },
    {
      "cell_type": "markdown",
      "metadata": {
        "id": "qbUGa3Y7H5OM",
        "colab_type": "text"
      },
      "source": [
        "# ipynb for BTP\n",
        "# made in colab\n",
        "\n",
        "---\n",
        "\n"
      ]
    },
    {
      "cell_type": "code",
      "metadata": {
        "id": "YgrqbKEUHrIe",
        "colab_type": "code",
        "colab": {}
      },
      "source": [
        "!pip install librosa"
      ],
      "execution_count": 0,
      "outputs": []
    },
    {
      "cell_type": "code",
      "metadata": {
        "id": "iLXmJrk6IWVw",
        "colab_type": "code",
        "colab": {}
      },
      "source": [
        "import librosa"
      ],
      "execution_count": 0,
      "outputs": []
    },
    {
      "cell_type": "code",
      "metadata": {
        "id": "cHYNZVbtIefu",
        "colab_type": "code",
        "colab": {}
      },
      "source": [
        "from librosa import display"
      ],
      "execution_count": 0,
      "outputs": []
    },
    {
      "cell_type": "code",
      "metadata": {
        "id": "EALbR3lsIhF4",
        "colab_type": "code",
        "colab": {}
      },
      "source": [
        "import matplotlib.pyplot as plt\n",
        "%matplotlib inline"
      ],
      "execution_count": 0,
      "outputs": []
    },
    {
      "cell_type": "code",
      "metadata": {
        "id": "5FifY1iCIrKR",
        "colab_type": "code",
        "colab": {}
      },
      "source": [
        "y, sr = librosa.load(librosa.util.example_audio_file())"
      ],
      "execution_count": 0,
      "outputs": []
    },
    {
      "cell_type": "code",
      "metadata": {
        "id": "xHrqWfEyNOF3",
        "colab_type": "code",
        "colab": {}
      },
      "source": [
        "sr"
      ],
      "execution_count": 0,
      "outputs": []
    },
    {
      "cell_type": "code",
      "metadata": {
        "id": "e3oSPMJMKJ7p",
        "colab_type": "code",
        "colab": {}
      },
      "source": [
        "tempo, beat_frame = librosa.beat.beat_track(y=y, sr=sr)"
      ],
      "execution_count": 0,
      "outputs": []
    },
    {
      "cell_type": "markdown",
      "metadata": {
        "id": "uVdEE6q2PJy6",
        "colab_type": "text"
      },
      "source": [
        "Tempo - Beats per minute"
      ]
    },
    {
      "cell_type": "code",
      "metadata": {
        "id": "4FPmb9pYKPzR",
        "colab_type": "code",
        "colab": {}
      },
      "source": [
        "tempo"
      ],
      "execution_count": 0,
      "outputs": []
    },
    {
      "cell_type": "code",
      "metadata": {
        "id": "rFLNCudcKR6W",
        "colab_type": "code",
        "colab": {}
      },
      "source": [
        "beat_frame"
      ],
      "execution_count": 0,
      "outputs": []
    },
    {
      "cell_type": "code",
      "metadata": {
        "id": "6jgmgX5eKTmq",
        "colab_type": "code",
        "colab": {}
      },
      "source": [
        "beat_times = librosa.frames_to_time(beat_frame[:20], sr=sr)"
      ],
      "execution_count": 0,
      "outputs": []
    },
    {
      "cell_type": "markdown",
      "metadata": {
        "id": "qLjZ84PYPrI4",
        "colab_type": "text"
      },
      "source": [
        "Now, beat_times will be an array of timestamps (in seconds) corresponding to detected beat events."
      ]
    },
    {
      "cell_type": "code",
      "metadata": {
        "id": "i1gdKuEDPouG",
        "colab_type": "code",
        "colab": {}
      },
      "source": [
        ""
      ],
      "execution_count": 0,
      "outputs": []
    },
    {
      "cell_type": "code",
      "metadata": {
        "id": "IDKC7EmjKY0o",
        "colab_type": "code",
        "colab": {}
      },
      "source": [
        "librosa.display.waveplot(y, sr=1000)"
      ],
      "execution_count": 0,
      "outputs": []
    },
    {
      "cell_type": "code",
      "metadata": {
        "id": "rpFPGSZRK4MQ",
        "colab_type": "code",
        "colab": {}
      },
      "source": [
        "librosa.display.waveplot(y, sr=sr)"
      ],
      "execution_count": 0,
      "outputs": []
    },
    {
      "cell_type": "code",
      "metadata": {
        "id": "RVrGqHidLAE0",
        "colab_type": "code",
        "colab": {}
      },
      "source": [
        ""
      ],
      "execution_count": 0,
      "outputs": []
    }
  ]
}